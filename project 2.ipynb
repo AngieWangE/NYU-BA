{
 "cells": [
  {
   "cell_type": "code",
   "execution_count": 1,
   "id": "6a2acceb-0ea6-4408-9405-71c345760111",
   "metadata": {
    "tags": []
   },
   "outputs": [
    {
     "data": {
      "text/html": [
       "<style>#sk-container-id-1 {color: black;}#sk-container-id-1 pre{padding: 0;}#sk-container-id-1 div.sk-toggleable {background-color: white;}#sk-container-id-1 label.sk-toggleable__label {cursor: pointer;display: block;width: 100%;margin-bottom: 0;padding: 0.3em;box-sizing: border-box;text-align: center;}#sk-container-id-1 label.sk-toggleable__label-arrow:before {content: \"▸\";float: left;margin-right: 0.25em;color: #696969;}#sk-container-id-1 label.sk-toggleable__label-arrow:hover:before {color: black;}#sk-container-id-1 div.sk-estimator:hover label.sk-toggleable__label-arrow:before {color: black;}#sk-container-id-1 div.sk-toggleable__content {max-height: 0;max-width: 0;overflow: hidden;text-align: left;background-color: #f0f8ff;}#sk-container-id-1 div.sk-toggleable__content pre {margin: 0.2em;color: black;border-radius: 0.25em;background-color: #f0f8ff;}#sk-container-id-1 input.sk-toggleable__control:checked~div.sk-toggleable__content {max-height: 200px;max-width: 100%;overflow: auto;}#sk-container-id-1 input.sk-toggleable__control:checked~label.sk-toggleable__label-arrow:before {content: \"▾\";}#sk-container-id-1 div.sk-estimator input.sk-toggleable__control:checked~label.sk-toggleable__label {background-color: #d4ebff;}#sk-container-id-1 div.sk-label input.sk-toggleable__control:checked~label.sk-toggleable__label {background-color: #d4ebff;}#sk-container-id-1 input.sk-hidden--visually {border: 0;clip: rect(1px 1px 1px 1px);clip: rect(1px, 1px, 1px, 1px);height: 1px;margin: -1px;overflow: hidden;padding: 0;position: absolute;width: 1px;}#sk-container-id-1 div.sk-estimator {font-family: monospace;background-color: #f0f8ff;border: 1px dotted black;border-radius: 0.25em;box-sizing: border-box;margin-bottom: 0.5em;}#sk-container-id-1 div.sk-estimator:hover {background-color: #d4ebff;}#sk-container-id-1 div.sk-parallel-item::after {content: \"\";width: 100%;border-bottom: 1px solid gray;flex-grow: 1;}#sk-container-id-1 div.sk-label:hover label.sk-toggleable__label {background-color: #d4ebff;}#sk-container-id-1 div.sk-serial::before {content: \"\";position: absolute;border-left: 1px solid gray;box-sizing: border-box;top: 0;bottom: 0;left: 50%;z-index: 0;}#sk-container-id-1 div.sk-serial {display: flex;flex-direction: column;align-items: center;background-color: white;padding-right: 0.2em;padding-left: 0.2em;position: relative;}#sk-container-id-1 div.sk-item {position: relative;z-index: 1;}#sk-container-id-1 div.sk-parallel {display: flex;align-items: stretch;justify-content: center;background-color: white;position: relative;}#sk-container-id-1 div.sk-item::before, #sk-container-id-1 div.sk-parallel-item::before {content: \"\";position: absolute;border-left: 1px solid gray;box-sizing: border-box;top: 0;bottom: 0;left: 50%;z-index: -1;}#sk-container-id-1 div.sk-parallel-item {display: flex;flex-direction: column;z-index: 1;position: relative;background-color: white;}#sk-container-id-1 div.sk-parallel-item:first-child::after {align-self: flex-end;width: 50%;}#sk-container-id-1 div.sk-parallel-item:last-child::after {align-self: flex-start;width: 50%;}#sk-container-id-1 div.sk-parallel-item:only-child::after {width: 0;}#sk-container-id-1 div.sk-dashed-wrapped {border: 1px dashed gray;margin: 0 0.4em 0.5em 0.4em;box-sizing: border-box;padding-bottom: 0.4em;background-color: white;}#sk-container-id-1 div.sk-label label {font-family: monospace;font-weight: bold;display: inline-block;line-height: 1.2em;}#sk-container-id-1 div.sk-label-container {text-align: center;}#sk-container-id-1 div.sk-container {/* jupyter's `normalize.less` sets `[hidden] { display: none; }` but bootstrap.min.css set `[hidden] { display: none !important; }` so we also need the `!important` here to be able to override the default hidden behavior on the sphinx rendered scikit-learn.org. See: https://github.com/scikit-learn/scikit-learn/issues/21755 */display: inline-block !important;position: relative;}#sk-container-id-1 div.sk-text-repr-fallback {display: none;}</style><div id=\"sk-container-id-1\" class=\"sk-top-container\"><div class=\"sk-text-repr-fallback\"><pre>XGBClassifier(base_score=None, booster=None, callbacks=None,\n",
       "              colsample_bylevel=None, colsample_bynode=None,\n",
       "              colsample_bytree=None, early_stopping_rounds=None,\n",
       "              enable_categorical=False, eval_metric=None, feature_types=None,\n",
       "              gamma=None, gpu_id=None, grow_policy=None, importance_type=None,\n",
       "              interaction_constraints=None, learning_rate=None, max_bin=None,\n",
       "              max_cat_threshold=None, max_cat_to_onehot=None,\n",
       "              max_delta_step=None, max_depth=None, max_leaves=None,\n",
       "              min_child_weight=None, missing=nan, monotone_constraints=None,\n",
       "              n_estimators=100, n_jobs=None, num_parallel_tree=None,\n",
       "              predictor=None, random_state=123, ...)</pre><b>In a Jupyter environment, please rerun this cell to show the HTML representation or trust the notebook. <br />On GitHub, the HTML representation is unable to render, please try loading this page with nbviewer.org.</b></div><div class=\"sk-container\" hidden><div class=\"sk-item\"><div class=\"sk-estimator sk-toggleable\"><input class=\"sk-toggleable__control sk-hidden--visually\" id=\"sk-estimator-id-1\" type=\"checkbox\" checked><label for=\"sk-estimator-id-1\" class=\"sk-toggleable__label sk-toggleable__label-arrow\">XGBClassifier</label><div class=\"sk-toggleable__content\"><pre>XGBClassifier(base_score=None, booster=None, callbacks=None,\n",
       "              colsample_bylevel=None, colsample_bynode=None,\n",
       "              colsample_bytree=None, early_stopping_rounds=None,\n",
       "              enable_categorical=False, eval_metric=None, feature_types=None,\n",
       "              gamma=None, gpu_id=None, grow_policy=None, importance_type=None,\n",
       "              interaction_constraints=None, learning_rate=None, max_bin=None,\n",
       "              max_cat_threshold=None, max_cat_to_onehot=None,\n",
       "              max_delta_step=None, max_depth=None, max_leaves=None,\n",
       "              min_child_weight=None, missing=nan, monotone_constraints=None,\n",
       "              n_estimators=100, n_jobs=None, num_parallel_tree=None,\n",
       "              predictor=None, random_state=123, ...)</pre></div></div></div></div></div>"
      ],
      "text/plain": [
       "XGBClassifier(base_score=None, booster=None, callbacks=None,\n",
       "              colsample_bylevel=None, colsample_bynode=None,\n",
       "              colsample_bytree=None, early_stopping_rounds=None,\n",
       "              enable_categorical=False, eval_metric=None, feature_types=None,\n",
       "              gamma=None, gpu_id=None, grow_policy=None, importance_type=None,\n",
       "              interaction_constraints=None, learning_rate=None, max_bin=None,\n",
       "              max_cat_threshold=None, max_cat_to_onehot=None,\n",
       "              max_delta_step=None, max_depth=None, max_leaves=None,\n",
       "              min_child_weight=None, missing=nan, monotone_constraints=None,\n",
       "              n_estimators=100, n_jobs=None, num_parallel_tree=None,\n",
       "              predictor=None, random_state=123, ...)"
      ]
     },
     "execution_count": 1,
     "metadata": {},
     "output_type": "execute_result"
    }
   ],
   "source": [
    "# Import necessary libraries\n",
    "import pandas as pd\n",
    "from sklearn import preprocessing\n",
    "from sklearn.model_selection import train_test_split\n",
    "from imblearn.under_sampling import RandomUnderSampler\n",
    "from xgboost import XGBClassifier\n",
    "from sklearn.metrics import classification_report, confusion_matrix\n",
    "from sklearn.preprocessing import OneHotEncoder\n",
    "from sklearn.compose import ColumnTransformer\n",
    "\n",
    "# Step 1: Load and explore the data\n",
    "# Load your dataset into a DataFrame, e.g., complaints = pd.read_csv('your_data.csv')\n",
    "complaints = pd.read_csv('shared/complaints_25Nov21.csv')  # Replace 'your_data.csv' with your dataset path\n",
    "# ...\n",
    "\n",
    "# Step 2: Set your X and y variables\n",
    "X = complaints[['Product', 'Sub-product', 'Issue', 'State', 'Tags', 'Submitted via', 'Company response to consumer', 'Timely response?']]\n",
    "y = complaints['Consumer disputed?']\n",
    "\n",
    "# Use one-hot encoding to convert categorical features\n",
    "categorical_features = ['Product', 'Sub-product', 'Issue', 'State', 'Tags', 'Submitted via', 'Company response to consumer', 'Timely response?']\n",
    "categorical_transformer = ColumnTransformer(\n",
    "    transformers=[('cat', OneHotEncoder(), categorical_features)])\n",
    "\n",
    "X = categorical_transformer.fit_transform(X)\n",
    "\n",
    "le = preprocessing.LabelEncoder()\n",
    "y = le.fit_transform(y)\n",
    "\n",
    "# Step 3: Split data into train and test sets\n",
    "X_train, X_test, y_train, y_test = train_test_split(X, y, test_size=0.2, random_state=123)\n",
    "\n",
    "# Step 4: Check and balance class proportions\n",
    "undersampler = RandomUnderSampler(random_state=123)\n",
    "X_train, y_train = undersampler.fit_resample(X_train, y_train)\n",
    "\n",
    "# Step 5: Train the XGBoost Classifier\n",
    "model_xgb = XGBClassifier(random_state=123)\n",
    "model_xgb.fit(X_train, y_train)\n",
    "\n",
    "# Rest of the code remains the same as in the previous answer\n"
   ]
  },
  {
   "cell_type": "code",
   "execution_count": 2,
   "id": "ae3b0662-54a0-4702-826a-fef3d60ccca7",
   "metadata": {
    "tags": []
   },
   "outputs": [
    {
     "name": "stdout",
     "output_type": "stream",
     "text": [
      "Proportion of consumers who raised a dispute in the test set: 0.215864\n"
     ]
    }
   ],
   "source": [
    "# Calculate the proportion of consumers who raised a dispute in the test set\n",
    "proportion_disputed_test_set = (y_test == 1).mean()\n",
    "\n",
    "# Print the result\n",
    "print(f\"Proportion of consumers who raised a dispute in the test set: {proportion_disputed_test_set:.6f}\")"
   ]
  },
  {
   "cell_type": "code",
   "execution_count": 3,
   "id": "41f7a920-97b8-4935-b572-963e8301ebbd",
   "metadata": {
    "tags": []
   },
   "outputs": [
    {
     "name": "stdout",
     "output_type": "stream",
     "text": [
      "Proportion of consumers who raised a dispute in the modified training dataset: 0.500000\n"
     ]
    }
   ],
   "source": [
    "# Calculate the proportion of consumers who raised a dispute in the modified training dataset\n",
    "proportion_disputed_training_set = (y_train == 1).mean()\n",
    "\n",
    "# Print the result\n",
    "print(f\"Proportion of consumers who raised a dispute in the modified training dataset: {proportion_disputed_training_set:.6f}\")\n"
   ]
  },
  {
   "cell_type": "code",
   "execution_count": 4,
   "id": "307e302f-4624-44be-b7c1-2f41de7f73db",
   "metadata": {
    "tags": []
   },
   "outputs": [
    {
     "name": "stdout",
     "output_type": "stream",
     "text": [
      "Recall for 'Consumer disputed?' = 'Yes' on the test set: 0.63\n"
     ]
    }
   ],
   "source": [
    "from sklearn.metrics import recall_score\n",
    "\n",
    "# Make predictions on the test set using the trained XGBoost model\n",
    "y_pred = model_xgb.predict(X_test)\n",
    "\n",
    "# Calculate the recall for the category 'Consumer disputed?' = 'Yes'\n",
    "recall_disputed_yes = recall_score(y_test, y_pred, pos_label=1)\n",
    "\n",
    "# Print the recall\n",
    "print(f\"Recall for 'Consumer disputed?' = 'Yes' on the test set: {recall_disputed_yes:.2f}\")"
   ]
  },
  {
   "cell_type": "code",
   "execution_count": 5,
   "id": "61618602-f362-42c9-8783-c3958a39e042",
   "metadata": {
    "tags": []
   },
   "outputs": [
    {
     "name": "stdout",
     "output_type": "stream",
     "text": [
      "Total Cost without Model (Base-Case): $8,619,200.00\n"
     ]
    }
   ],
   "source": [
    "# Define the cost structure (in dollars)\n",
    "cost_per_disputed = 600  # Cost for every disputed complaint\n",
    "cost_per_non_disputed = 100  # Cost for every non-disputed complaint\n",
    "\n",
    "# Calculate the total cost for the test set without using a model (base-case)\n",
    "total_base_case_cost = (y_test == 1).sum() * cost_per_disputed + (y_test == 0).sum() * cost_per_non_disputed\n",
    "\n",
    "# Print the total cost\n",
    "print(f\"Total Cost without Model (Base-Case): ${total_base_case_cost:,.2f}\")"
   ]
  },
  {
   "cell_type": "code",
   "execution_count": 6,
   "id": "34459623-8c7b-496a-b685-af5ebc7734ec",
   "metadata": {
    "tags": []
   },
   "outputs": [
    {
     "name": "stdout",
     "output_type": "stream",
     "text": [
      "Total cost to the banks based on model results: $838340\n"
     ]
    }
   ],
   "source": [
    "import numpy as np\n",
    "\n",
    "# Calculate the total cost based on model results using the default threshold (0.5)\n",
    "true_positives_default = np.sum((y_pred == 1) & (y_test == 1))\n",
    "false_negatives_default = np.sum((y_pred == 0) & (y_test == 1))\n",
    "\n",
    "# The banks decide to spend $90 on complaints predicted to be disputed\n",
    "extra_diligence_cost = true_positives_default * 90\n",
    "\n",
    "total_cost_with_model = (false_negatives_default * 100) + extra_diligence_cost\n",
    "\n",
    "print(f\"Total cost to the banks based on model results: ${total_cost_with_model}\")"
   ]
  },
  {
   "cell_type": "code",
   "execution_count": 7,
   "id": "48324423-b9a5-48b9-a927-d5c017508115",
   "metadata": {
    "tags": []
   },
   "outputs": [
    {
     "name": "stdout",
     "output_type": "stream",
     "text": [
      "Optimal threshold: 0.40000000000000013\n",
      "Lowest total cost: 3815120\n"
     ]
    }
   ],
   "source": [
    "import numpy as np\n",
    "from sklearn.metrics import precision_score, recall_score\n",
    "\n",
    "# Assuming you have trained your model (model_xgb) and have the true labels in y_test\n",
    "# ...\n",
    "\n",
    "# Calculate the probability scores for the test set\n",
    "y_prob = model_xgb.predict_proba(X_test)[:, 1]\n",
    "\n",
    "# Define cost parameters\n",
    "disputed_cost = 600  # Cost for a disputed complaint\n",
    "non_disputed_cost = 100  # Cost for a non-disputed complaint\n",
    "extra_diligence_cost = 90  # Cost for doing extra diligence\n",
    "\n",
    "best_threshold = 0.5\n",
    "best_cost = float(\"inf\")\n",
    "\n",
    "# Generate a range of threshold values to test\n",
    "thresholds = np.arange(0.1, 1.0, 0.05)\n",
    "\n",
    "for threshold in thresholds:\n",
    "    y_pred_thresholded = (y_prob >= threshold).astype(int)\n",
    "    \n",
    "    # Calculate the total cost for this threshold\n",
    "    true_positives = np.sum((y_pred_thresholded == 1) & (y_test == 1))\n",
    "    false_negatives = np.sum((y_pred_thresholded == 0) & (y_test == 1))\n",
    "    false_positives = np.sum((y_pred_thresholded == 1) & (y_test == 0))\n",
    "    \n",
    "    total_cost = (true_positives * extra_diligence_cost) + (false_negatives * disputed_cost) + (false_positives * non_disputed_cost)\n",
    "    \n",
    "    # Update the best threshold and cost if the current threshold yields a lower cost\n",
    "    if total_cost < best_cost:\n",
    "        best_cost = total_cost\n",
    "        best_threshold = threshold\n",
    "\n",
    "print(f\"Optimal threshold: {best_threshold}\")\n",
    "print(f\"Lowest total cost: {best_cost}\")"
   ]
  },
  {
   "cell_type": "code",
   "execution_count": null,
   "id": "c832a2f8-c0e5-493d-9ba0-eed7cd825c75",
   "metadata": {},
   "outputs": [],
   "source": []
  }
 ],
 "metadata": {
  "kernelspec": {
   "display_name": "Python [conda env:mggy8413]",
   "language": "python",
   "name": "conda-env-mggy8413-py"
  },
  "language_info": {
   "codemirror_mode": {
    "name": "ipython",
    "version": 3
   },
   "file_extension": ".py",
   "mimetype": "text/x-python",
   "name": "python",
   "nbconvert_exporter": "python",
   "pygments_lexer": "ipython3",
   "version": "3.10.12"
  }
 },
 "nbformat": 4,
 "nbformat_minor": 5
}
